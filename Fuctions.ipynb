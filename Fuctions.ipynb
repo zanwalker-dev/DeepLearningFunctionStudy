{
 "cells": [
  {
   "metadata": {},
   "cell_type": "markdown",
   "source": "# Functions Deep Learning Study",
   "id": "76a4808bac3f99e3"
  },
  {
   "metadata": {
    "ExecuteTime": {
     "end_time": "2025-05-24T15:20:50.852269Z",
     "start_time": "2025-05-24T15:20:50.815268Z"
    }
   },
   "cell_type": "code",
   "source": "import numpy as np",
   "id": "db41047d80275c1f",
   "outputs": [],
   "execution_count": 9
  },
  {
   "metadata": {},
   "cell_type": "markdown",
   "source": [
    "Step Function:\n",
    "retorna 0 ou 1 -> utilizada para problemas simples, linearmente separaveis."
   ],
   "id": "ea3e828c274ae3db"
  },
  {
   "cell_type": "code",
   "id": "initial_id",
   "metadata": {
    "collapsed": true,
    "ExecuteTime": {
     "end_time": "2025-05-24T15:17:43.271915Z",
     "start_time": "2025-05-24T15:17:43.242443Z"
    }
   },
   "source": [
    "def step_function(soma):\n",
    "    if soma >= 1:\n",
    "        return 1\n",
    "    return 0"
   ],
   "outputs": [],
   "execution_count": 4
  },
  {
   "metadata": {
    "ExecuteTime": {
     "end_time": "2025-05-24T15:17:57.168368Z",
     "start_time": "2025-05-24T15:17:57.146907Z"
    }
   },
   "cell_type": "code",
   "source": "step_function(-10)",
   "id": "10e480f226f89177",
   "outputs": [
    {
     "data": {
      "text/plain": [
       "0"
      ]
     },
     "execution_count": 7,
     "metadata": {},
     "output_type": "execute_result"
    }
   ],
   "execution_count": 7
  },
  {
   "metadata": {
    "ExecuteTime": {
     "end_time": "2025-05-24T15:18:29.576546Z",
     "start_time": "2025-05-24T15:18:29.559371Z"
    }
   },
   "cell_type": "code",
   "source": "step_function(10)",
   "id": "da209a8d097c5bfb",
   "outputs": [
    {
     "data": {
      "text/plain": [
       "1"
      ]
     },
     "execution_count": 8,
     "metadata": {},
     "output_type": "execute_result"
    }
   ],
   "execution_count": 8
  },
  {
   "metadata": {
    "ExecuteTime": {
     "end_time": "2025-05-24T15:29:00.810387Z",
     "start_time": "2025-05-24T15:29:00.780172Z"
    }
   },
   "cell_type": "code",
   "source": "step_function(1)",
   "id": "21bdb7b5b065aae6",
   "outputs": [
    {
     "data": {
      "text/plain": [
       "1"
      ]
     },
     "execution_count": 22,
     "metadata": {},
     "output_type": "execute_result"
    }
   ],
   "execution_count": 22
  },
  {
   "metadata": {},
   "cell_type": "markdown",
   "source": "Sigmoid: problemas de classificação entre duas classes, retorna uma probabilidade entre 0 e 1.",
   "id": "724542343be26031"
  },
  {
   "metadata": {
    "ExecuteTime": {
     "end_time": "2025-05-24T15:22:59.919149Z",
     "start_time": "2025-05-24T15:22:59.900144Z"
    }
   },
   "cell_type": "code",
   "source": [
    "def sigmoid_function(soma):\n",
    "    return 1 / (1 + np.exp(-soma))"
   ],
   "id": "637470f245c1ad06",
   "outputs": [],
   "execution_count": 10
  },
  {
   "metadata": {
    "ExecuteTime": {
     "end_time": "2025-05-24T15:23:07.791077Z",
     "start_time": "2025-05-24T15:23:07.758066Z"
    }
   },
   "cell_type": "code",
   "source": "sigmoid_function(-10)",
   "id": "c9ff87b250dc03e3",
   "outputs": [
    {
     "data": {
      "text/plain": [
       "4.5397868702434395e-05"
      ]
     },
     "execution_count": 11,
     "metadata": {},
     "output_type": "execute_result"
    }
   ],
   "execution_count": 11
  },
  {
   "metadata": {
    "ExecuteTime": {
     "end_time": "2025-05-24T15:23:34.009838Z",
     "start_time": "2025-05-24T15:23:33.979156Z"
    }
   },
   "cell_type": "code",
   "source": "sigmoid_function(10)",
   "id": "a86c3e9090fffcbb",
   "outputs": [
    {
     "data": {
      "text/plain": [
       "0.9999546021312976"
      ]
     },
     "execution_count": 12,
     "metadata": {},
     "output_type": "execute_result"
    }
   ],
   "execution_count": 12
  },
  {
   "metadata": {
    "ExecuteTime": {
     "end_time": "2025-05-24T15:23:50.605745Z",
     "start_time": "2025-05-24T15:23:50.562541Z"
    }
   },
   "cell_type": "code",
   "source": "sigmoid_function(1)",
   "id": "531f6cde807dc1",
   "outputs": [
    {
     "data": {
      "text/plain": [
       "0.7310585786300049"
      ]
     },
     "execution_count": 13,
     "metadata": {},
     "output_type": "execute_result"
    }
   ],
   "execution_count": 13
  },
  {
   "metadata": {},
   "cell_type": "markdown",
   "source": "Hiperbolyc Tangent: retorna valores entre -1 e 1 -> utilizada em alguns problemas de visão computacional",
   "id": "2aa679c3ba79e6f3"
  },
  {
   "metadata": {
    "ExecuteTime": {
     "end_time": "2025-05-24T15:25:44.273784Z",
     "start_time": "2025-05-24T15:25:44.233080Z"
    }
   },
   "cell_type": "code",
   "source": [
    "def tahn_function(soma):\n",
    "    return (np.exp(soma) - np.exp(-soma)) / (np.exp(soma) + np.exp(-soma))"
   ],
   "id": "d8442d3c91f5493a",
   "outputs": [],
   "execution_count": 14
  },
  {
   "metadata": {
    "ExecuteTime": {
     "end_time": "2025-05-24T15:25:50.370063Z",
     "start_time": "2025-05-24T15:25:50.344946Z"
    }
   },
   "cell_type": "code",
   "source": "tahn_function(-10)",
   "id": "19767b4c68c02a04",
   "outputs": [
    {
     "data": {
      "text/plain": [
       "-0.9999999958776926"
      ]
     },
     "execution_count": 15,
     "metadata": {},
     "output_type": "execute_result"
    }
   ],
   "execution_count": 15
  },
  {
   "metadata": {
    "ExecuteTime": {
     "end_time": "2025-05-24T15:25:59.178745Z",
     "start_time": "2025-05-24T15:25:59.165140Z"
    }
   },
   "cell_type": "code",
   "source": "tahn_function(10)",
   "id": "d52ccfdcd3d19223",
   "outputs": [
    {
     "data": {
      "text/plain": [
       "0.9999999958776926"
      ]
     },
     "execution_count": 16,
     "metadata": {},
     "output_type": "execute_result"
    }
   ],
   "execution_count": 16
  },
  {
   "metadata": {
    "ExecuteTime": {
     "end_time": "2025-05-24T15:26:10.071179Z",
     "start_time": "2025-05-24T15:26:10.041480Z"
    }
   },
   "cell_type": "code",
   "source": "tahn_function(1)",
   "id": "8ccc52c6aeef7393",
   "outputs": [
    {
     "data": {
      "text/plain": [
       "0.7615941559557649"
      ]
     },
     "execution_count": 17,
     "metadata": {},
     "output_type": "execute_result"
    }
   ],
   "execution_count": 17
  },
  {
   "metadata": {},
   "cell_type": "markdown",
   "source": "ReLU(Rectified Linear Units): retorna valores maiores do que 0, se o valor enviado for negativo será zerado. Função utilizada nas camadas ocultas das redes neurais!",
   "id": "91d420aa43d5589"
  },
  {
   "metadata": {
    "ExecuteTime": {
     "end_time": "2025-05-24T15:28:14.352959Z",
     "start_time": "2025-05-24T15:28:14.335330Z"
    }
   },
   "cell_type": "code",
   "source": [
    "def relu_function(soma):\n",
    "    if soma >= 0:\n",
    "        return soma\n",
    "    return 0"
   ],
   "id": "1076380f9dfc9e15",
   "outputs": [],
   "execution_count": 18
  },
  {
   "metadata": {
    "ExecuteTime": {
     "end_time": "2025-05-24T15:28:23.532294Z",
     "start_time": "2025-05-24T15:28:23.521568Z"
    }
   },
   "cell_type": "code",
   "source": "relu_function(-10)",
   "id": "da543de15c6d460",
   "outputs": [
    {
     "data": {
      "text/plain": [
       "0"
      ]
     },
     "execution_count": 19,
     "metadata": {},
     "output_type": "execute_result"
    }
   ],
   "execution_count": 19
  },
  {
   "metadata": {
    "ExecuteTime": {
     "end_time": "2025-05-24T15:28:31.662006Z",
     "start_time": "2025-05-24T15:28:31.653391Z"
    }
   },
   "cell_type": "code",
   "source": "relu_function(10)",
   "id": "109145dc1302f359",
   "outputs": [
    {
     "data": {
      "text/plain": [
       "10"
      ]
     },
     "execution_count": 20,
     "metadata": {},
     "output_type": "execute_result"
    }
   ],
   "execution_count": 20
  },
  {
   "metadata": {
    "ExecuteTime": {
     "end_time": "2025-05-24T15:28:40.743230Z",
     "start_time": "2025-05-24T15:28:40.731738Z"
    }
   },
   "cell_type": "code",
   "source": "relu_function(1)",
   "id": "544d43abb3a962a8",
   "outputs": [
    {
     "data": {
      "text/plain": [
       "1"
      ]
     },
     "execution_count": 21,
     "metadata": {},
     "output_type": "execute_result"
    }
   ],
   "execution_count": 21
  },
  {
   "metadata": {},
   "cell_type": "markdown",
   "source": "SoftMax retorna uma probabilidade para cada uma das classes -> utilizada em problemas de classificação com mais de duas classes.",
   "id": "d71d551976abeb71"
  },
  {
   "metadata": {
    "ExecuteTime": {
     "end_time": "2025-05-24T15:31:02.526034Z",
     "start_time": "2025-05-24T15:31:02.488740Z"
    }
   },
   "cell_type": "code",
   "source": [
    "def softmax_function(x):\n",
    "    ex = np.exp(x)\n",
    "    return ex / ex.sum()"
   ],
   "id": "192bc428b621e55b",
   "outputs": [],
   "execution_count": 23
  },
  {
   "metadata": {
    "ExecuteTime": {
     "end_time": "2025-05-24T15:31:42.236518Z",
     "start_time": "2025-05-24T15:31:42.193983Z"
    }
   },
   "cell_type": "code",
   "source": "softmax_function([ 7.0, 2.0, 1.3])",
   "id": "5b8783637660d435",
   "outputs": [
    {
     "data": {
      "text/plain": [
       "array([0.99001676, 0.00667068, 0.00331256])"
      ]
     },
     "execution_count": 24,
     "metadata": {},
     "output_type": "execute_result"
    }
   ],
   "execution_count": 24
  },
  {
   "metadata": {},
   "cell_type": "markdown",
   "source": "Linear retorna o próprio valor enviado -> utilizada em problemas de regressão.",
   "id": "e7f0be55b281db7"
  },
  {
   "metadata": {
    "ExecuteTime": {
     "end_time": "2025-05-24T15:34:33.357127Z",
     "start_time": "2025-05-24T15:34:33.320773Z"
    }
   },
   "cell_type": "code",
   "source": [
    "def linear_function(soma):\n",
    "    return soma"
   ],
   "id": "c6eed283943d0595",
   "outputs": [],
   "execution_count": 25
  },
  {
   "metadata": {
    "ExecuteTime": {
     "end_time": "2025-05-24T15:34:39.275373Z",
     "start_time": "2025-05-24T15:34:39.265881Z"
    }
   },
   "cell_type": "code",
   "source": "linear_function(-10)",
   "id": "2a3ef31d5880f444",
   "outputs": [
    {
     "data": {
      "text/plain": [
       "-10"
      ]
     },
     "execution_count": 26,
     "metadata": {},
     "output_type": "execute_result"
    }
   ],
   "execution_count": 26
  },
  {
   "metadata": {
    "ExecuteTime": {
     "end_time": "2025-05-24T15:34:48.842491Z",
     "start_time": "2025-05-24T15:34:48.834865Z"
    }
   },
   "cell_type": "code",
   "source": "linear_function(10)",
   "id": "6377e5396e3479c1",
   "outputs": [
    {
     "data": {
      "text/plain": [
       "10"
      ]
     },
     "execution_count": 27,
     "metadata": {},
     "output_type": "execute_result"
    }
   ],
   "execution_count": 27
  },
  {
   "metadata": {
    "ExecuteTime": {
     "end_time": "2025-05-24T15:34:56.119545Z",
     "start_time": "2025-05-24T15:34:56.107743Z"
    }
   },
   "cell_type": "code",
   "source": "linear_function(1)",
   "id": "97b9149a25ef2bab",
   "outputs": [
    {
     "data": {
      "text/plain": [
       "1"
      ]
     },
     "execution_count": 28,
     "metadata": {},
     "output_type": "execute_result"
    }
   ],
   "execution_count": 28
  }
 ],
 "metadata": {
  "kernelspec": {
   "display_name": "Python 3",
   "language": "python",
   "name": "python3"
  },
  "language_info": {
   "codemirror_mode": {
    "name": "ipython",
    "version": 2
   },
   "file_extension": ".py",
   "mimetype": "text/x-python",
   "name": "python",
   "nbconvert_exporter": "python",
   "pygments_lexer": "ipython2",
   "version": "2.7.6"
  }
 },
 "nbformat": 4,
 "nbformat_minor": 5
}
